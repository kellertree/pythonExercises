{
  "metadata": {
    "language_info": {
      "codemirror_mode": {
        "name": "python",
        "version": 3
      },
      "file_extension": ".py",
      "mimetype": "text/x-python",
      "name": "python",
      "nbconvert_exporter": "python",
      "pygments_lexer": "ipython3",
      "version": "3.8"
    },
    "kernelspec": {
      "name": "python",
      "display_name": "Python (Pyodide)",
      "language": "python"
    }
  },
  "nbformat_minor": 4,
  "nbformat": 4,
  "cells": [
    {
      "cell_type": "code",
      "source": "# 9-1. Restaurant\n\nclass Restaurant():\n    \"\"\"A restaurant model.\"\"\"\n    \n    def __init__(identifier, restaurant_name, cuisine_type):\n        \"\"\"Initializes resturaunt name and cuisine.\"\"\"\n        identifier.restaurant_name = restaurant_name\n        identifier.cuisine_type = cuisine_type\n        \n    def describe_restaurant(identifier):\n        \"\"\"Displays restaurant name and cuisine specialty.\"\"\"\n        print(f\"The restaurant is named {identifier.restaurant_name.title()}.\")\n        print(f\"They specialize in {identifier.cuisine_type.title()} cuisine.\")\n    \n    def open_restaurant(identifier):\n        \"\"\"Displays open message.\"\"\"\n        print(f\"{identifier.restaurant_name.title()} is open for business.\")\n    ",
      "metadata": {
        "trusted": true
      },
      "execution_count": 52,
      "outputs": []
    },
    {
      "cell_type": "code",
      "source": "# Creates an instance for restaurant.\nrestaurant = Restaurant('la baguette', 'french')\n\n# prints out two individual lines for each attribute in class.\nprint(f\"The name of the restaurant is {restaurant.restaurant_name.title()}.\")\nprint(f\"They specialize in {restaurant.cuisine_type.title()} cuisine.\\n\")\n\n# Calls both methods in restaurant.\nrestaurant.describe_restaurant()\nrestaurant.open_restaurant()\n",
      "metadata": {
        "trusted": true
      },
      "execution_count": 53,
      "outputs": [
        {
          "name": "stdout",
          "text": "The name of the restaurant is La Baguette.\nThey specialize in French cuisine.\n\nThe restaurant is named La Baguette.\nThey specialize in French cuisine.\nLa Baguette is open for business.\n",
          "output_type": "stream"
        }
      ]
    },
    {
      "cell_type": "code",
      "source": "# 9-2. Three Restaurants\n# Creates 3 instances from class for restaurants.\n# Calls the describe_restaurant() method for each restaurant.\n\nrestaurantOne = Restaurant('samurai sushi', 'japanese')\nrestaurantTwo = Restaurant('thai kingdom', 'thai')\nrestaurantThree = Restaurant('der rathskeller', 'german')\n\nrestaurantOne.describe_restaurant()\nprint() # empty line for better better visibility on outputs.\nrestaurantTwo.describe_restaurant()\nprint() \nrestaurantThree.describe_restaurant()",
      "metadata": {
        "trusted": true
      },
      "execution_count": 71,
      "outputs": [
        {
          "name": "stdout",
          "text": "The restaurant is named Samurai Sushi.\nThey specialize in Japanese cuisine.\n\nThe restaurant is named Thai Kingdom.\nThey specialize in Thai cuisine.\n\nThe restaurant is named Der Rathskeller.\nThey specialize in German cuisine.\n",
          "output_type": "stream"
        }
      ]
    },
    {
      "cell_type": "code",
      "source": "# 9-3. Users\n\nclass Users():\n    \"\"\"User model.\"\"\"\n    \n    def __init__(user, first_name, last_name, location, age):\n        \"\"\"Initializes user attributes.\"\"\"\n        user.first_name = first_name\n        user.last_name = last_name\n        user.location = location\n        user.age = age\n        \n    def describe_user(user):\n        \"\"\"Describes user.\"\"\"\n        print(f\"This users first and last name is {user.first_name.title()} {user.last_name.title()}.\")\n        print(f\"{user.first_name.title()} lives in {user.location.title()}.\")\n        print(f\"This individual is {user.age} years old.\")\n        \n    def greet_user(user):\n        \"\"\"Displays a greeting message.\"\"\"\n        print(f\"Greetings to you {user.first_name.title()}! I hope your day is going well.\")\n        ",
      "metadata": {
        "trusted": true
      },
      "execution_count": 69,
      "outputs": []
    },
    {
      "cell_type": "code",
      "source": "userOne = Users('bilbo', 'baggins', 'the shire', '129')\nuserTwo = Users('frodo', 'baggins', 'the shire', '33')\nuserThree = Users('gandalf', 'mithrandir', 'middle earth', '54,962')\nuserFour = Users('aragon', 'elessar', 'rivendell', '89')\n\npatrons = [userOne, userTwo, userThree, userFour]\n\nfor patron in patrons:\n    patron.describe_user()\n    print()\n    patron.greet_user()\n    print()",
      "metadata": {
        "trusted": true
      },
      "execution_count": 70,
      "outputs": [
        {
          "name": "stdout",
          "text": "This users first and last name is Bilbo Baggins.\nBilbo lives in The Shire.\nThis individual is 129 years old.\n\nGreetings to you Bilbo! I hope your day is going well.\n\nThis users first and last name is Frodo Baggins.\nFrodo lives in The Shire.\nThis individual is 33 years old.\n\nGreetings to you Frodo! I hope your day is going well.\n\nThis users first and last name is Gandalf Mithrandir.\nGandalf lives in Middle Earth.\nThis individual is 54,962 years old.\n\nGreetings to you Gandalf! I hope your day is going well.\n\nThis users first and last name is Aragon Elessar.\nAragon lives in Rivendell.\nThis individual is 89 years old.\n\nGreetings to you Aragon! I hope your day is going well.\n\n",
          "output_type": "stream"
        }
      ]
    },
    {
      "cell_type": "code",
      "source": "",
      "metadata": {},
      "execution_count": null,
      "outputs": []
    }
  ]
}