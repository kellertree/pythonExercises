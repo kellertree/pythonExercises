{
  "metadata": {
    "language_info": {
      "codemirror_mode": {
        "name": "python",
        "version": 3
      },
      "file_extension": ".py",
      "mimetype": "text/x-python",
      "name": "python",
      "nbconvert_exporter": "python",
      "pygments_lexer": "ipython3",
      "version": "3.8"
    },
    "kernelspec": {
      "name": "python",
      "display_name": "Python (Pyodide)",
      "language": "python"
    }
  },
  "nbformat_minor": 4,
  "nbformat": 4,
  "cells": [
    {
      "cell_type": "code",
      "source": "# 9-4. Number Served\n\nclass Restaurant():\n    \"\"\"A restaurant model.\"\"\"\n    \n    def __init__(identifier, restaurant_name, cuisine_type):\n        \"\"\"Initializes resturaunt name and cuisine.\"\"\"\n        identifier.restaurant_name = restaurant_name\n        identifier.cuisine_type = cuisine_type\n        identifier.number_served = 0\n        \n    def describe_restaurant(identifier):\n        \"\"\"Displays restaurant name and cuisine specialty.\"\"\"\n        print(f\"The restaurant is named {identifier.restaurant_name.title()}.\")\n        print(f\"They specialize in {identifier.cuisine_type.title()} cuisine.\\n\")\n        \n    def set_number_served(identifier, number_served):\n        \"\"\"Updates the number of customers served.\"\"\"\n        identifier.number_served = number_served\n        \n    def increment_number_served(identifier, customers_served):\n        \"\"\"Adds each customer served to the number of customers served.\"\"\"\n        identifier.number_served += customers_served\n    \n    def open_restaurant(identifier):\n        \"\"\"Displays open message.\"\"\"\n        print(f\"{identifier.restaurant_name.title()} is open for business.\")\n    ",
      "metadata": {
        "trusted": true
      },
      "execution_count": 12,
      "outputs": []
    },
    {
      "cell_type": "code",
      "source": "restaurant = Restaurant('falafel house', 'mediterranean')\n\nprint(f\"{restaurant.restaurant_name.title()} has served {restaurant.number_served} customers today.\\n\")\n\n# Modifies number of customers servered by directly modifying value.\nrestaurant.number_served = 20\nprint(f\"{restaurant.restaurant_name.title()} has served {restaurant.number_served} customers today.\\n\")\n\n# Modifies number of customers served through a method.\nrestaurant.set_number_served(25)\nprint(f\"{restaurant.restaurant_name.title()} has served {restaurant.number_served} customers today.\\n\")\n\n# Adds to existing number of guests served.\nrestaurant.increment_number_served(5)\nprint(f\"{restaurant.restaurant_name.title()} has served {restaurant.number_served} customers today.\\n\")\n\n",
      "metadata": {
        "trusted": true
      },
      "execution_count": 13,
      "outputs": [
        {
          "name": "stdout",
          "text": "Falafel House has served 0 customers today.\n\nFalafel House has served 20 customers today.\n\nFalafel House has served 25 customers today.\n\nFalafel House has served 30 customers today.\n\n",
          "output_type": "stream"
        }
      ]
    },
    {
      "cell_type": "code",
      "source": "# 9-5. Login Attempts\n\nclass Users():\n    \"\"\"User model.\"\"\"\n    \n    def __init__(user, first_name, last_name, location, age):\n        \"\"\"Initializes user attributes.\"\"\"\n        user.first_name = first_name\n        user.last_name = last_name\n        user.location = location\n        user.age = age\n        user.login_attempts = 0\n        \n    def describe_user(user):\n        \"\"\"Describes user.\"\"\"\n        print(f\"This users first and last name is {user.first_name.title()} {user.last_name.title()}.\")\n        print(f\"{user.first_name.title()} lives in {user.location.title()}.\")\n        print(f\"This individual is {user.age} years old.\\n\")\n        \n    def greet_user(user):\n        \"\"\"Displays a greeting message.\"\"\"\n        print(f\"Greetings to you {user.first_name.title()}! I hope your day is going well.\\n\")\n        \n    def increment_login_attempts(user):\n        \"\"\"Increments login attempts by 1\"\"\"\n        user.login_attempts += 1\n        \n    def reset_login_attempts(user):\n        \"\"\"Resets login attempts to zero.\"\"\"\n        user.login_attempts *= 0\n        ",
      "metadata": {
        "trusted": true
      },
      "execution_count": 51,
      "outputs": []
    },
    {
      "cell_type": "code",
      "source": "# Creates an instance for a user.\nuserOne = Users('athena', 'pallas', 'mount olympus', 'immortal')\n\n# While login attempts are less than 6.\n# Increments login attempts by 1.\n\nwhile userOne.login_attempts < 6:\n    userOne.increment_login_attempts()\n    print(f\"User login attempts: {userOne.login_attempts}\")    ",
      "metadata": {
        "trusted": true
      },
      "execution_count": 59,
      "outputs": [
        {
          "name": "stdout",
          "text": "User login attempts: 1\nUser login attempts: 2\nUser login attempts: 3\nUser login attempts: 4\nUser login attempts: 5\nUser login attempts: 6\n",
          "output_type": "stream"
        }
      ]
    },
    {
      "cell_type": "code",
      "source": "# Prints current login attempt.\nprint(f\"Current login attempt count: {userOne.login_attempts}.\\n\")",
      "metadata": {
        "trusted": true
      },
      "execution_count": 53,
      "outputs": [
        {
          "name": "stdout",
          "text": "Current login attempt count: 6.\n\n",
          "output_type": "stream"
        }
      ]
    },
    {
      "cell_type": "code",
      "source": "# Resets login attempts.\nuserOne.reset_login_attempts()\n\nprint(f\"Current login attempt count: {userOne.login_attempts}.\\n\")",
      "metadata": {
        "trusted": true
      },
      "execution_count": 58,
      "outputs": [
        {
          "name": "stdout",
          "text": "Current login attempt count: 0.\n\n",
          "output_type": "stream"
        }
      ]
    },
    {
      "cell_type": "code",
      "source": "",
      "metadata": {},
      "execution_count": null,
      "outputs": []
    }
  ]
}