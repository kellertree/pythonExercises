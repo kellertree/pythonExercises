{
  "metadata": {
    "kernelspec": {
      "name": "python",
      "display_name": "Python (Pyodide)",
      "language": "python"
    },
    "language_info": {
      "codemirror_mode": {
        "name": "python",
        "version": 3
      },
      "file_extension": ".py",
      "mimetype": "text/x-python",
      "name": "python",
      "nbconvert_exporter": "python",
      "pygments_lexer": "ipython3",
      "version": "3.8"
    }
  },
  "nbformat_minor": 4,
  "nbformat": 4,
  "cells": [
    {
      "cell_type": "code",
      "source": "# Creates a list of friends.\nfriends = ['grace', 'caleb', 'daniel', 'kat']\nprint(friends)",
      "metadata": {
        "trusted": true
      },
      "outputs": [
        {
          "name": "stdout",
          "text": "['grace', 'caleb', 'daniel', 'kat']\n",
          "output_type": "stream"
        }
      ],
      "execution_count": 3
    },
    {
      "cell_type": "code",
      "source": "# Prints each persons name by accessing elements in the list. Using single index select.\nprint(friends[0])\nprint(friends[1])\nprint(friends[2])\nprint(friends[3])",
      "metadata": {
        "trusted": true
      },
      "outputs": [
        {
          "name": "stdout",
          "text": "grace\ncaleb\ndaniel\nkat\n",
          "output_type": "stream"
        }
      ],
      "execution_count": 6
    },
    {
      "cell_type": "code",
      "source": "# Prints each persons name by accessing elements in the list. Using for loop.\nfor name in friends:\n    print(name)",
      "metadata": {
        "trusted": true
      },
      "outputs": [
        {
          "name": "stdout",
          "text": "grace\ncaleb\ndaniel\nkat\n",
          "output_type": "stream"
        }
      ],
      "execution_count": 7
    },
    {
      "cell_type": "code",
      "source": "# Prints a message to each friend changing only the name in the message.\nprint(\"Hello \" + friends[0].title() + \"! How are you today?\\n\")\nprint(\"Hello \" + friends[1].title() + \"! How are you today?\\n\")\nprint(\"Hello \" + friends[2].title() + \"! How are you today?\\n\")\nprint(\"Hello \" + friends[3].title() + \"! How are you today?\\n\")",
      "metadata": {
        "trusted": true
      },
      "outputs": [
        {
          "name": "stdout",
          "text": "Hello Grace! How are you today?\n\nHello Caleb! How are you today?\n\nHello Daniel! How are you today?\n\nHello Kat! How are you today?\n\n",
          "output_type": "stream"
        }
      ],
      "execution_count": 11
    },
    {
      "cell_type": "code",
      "source": "# Prints the messages using for loop and concatenate's the value in to the message.\nfor name in friends:\n    print(\"Hello \" + name.title() + \"! How are you today?\\n\")",
      "metadata": {
        "trusted": true
      },
      "outputs": [
        {
          "name": "stdout",
          "text": "Hello Grace! How are you today?\n\nHello Caleb! How are you today?\n\nHello Daniel! How are you today?\n\nHello Kat! How are you today?\n\n",
          "output_type": "stream"
        }
      ],
      "execution_count": 12
    },
    {
      "cell_type": "code",
      "source": "# Prints the messages using for loop and f-string.\n# Allows for cleaner code.\nfor name in friends:\n    print(f\"Hello {name.title()}! How are you today?\\n\")",
      "metadata": {
        "trusted": true
      },
      "outputs": [
        {
          "name": "stdout",
          "text": "Hello Grace! How are you today?\n\nHello Caleb! How are you today?\n\nHello Daniel! How are you today?\n\nHello Kat! How are you today?\n\n",
          "output_type": "stream"
        }
      ],
      "execution_count": 13
    },
    {
      "cell_type": "code",
      "source": "# Create a list of favorite modes of transportation.\n# Use the list to print a series of statements about these items.\nfavorite_transportation = ['car', 'airplane', 'boat', 'feet', 'bike', 'four-wheeler']\nprint(f\"I would like to own a {favorite_transportation[0]}.\\n\")\nprint(f\"I enjoy traveling by {favorite_transportation[1]}.\\n\")\nprint(f\"It is fun to travel by {favorite_transportation[2]}.\\n\")\nprint(f\"I also like being able to hike and use my own two {favorite_transportation[-3]}.\\n\")\nprint(f\"I do also enjoy a good {favorite_transportation[-2]} ride.\\n\")\nprint(f\"When I visit my uncle's property, it is very fun to ride the \\n{favorite_transportation[-1]} around.\\n\")",
      "metadata": {
        "trusted": true
      },
      "outputs": [
        {
          "name": "stdout",
          "text": "I would like to own a car.\n\nI enjoy traveling by airplane.\n\nIt is fun to travel by boat.\n\nI also like being able to hike and use my own two feet.\n\nI do also enjoy a good bike ride.\n\nWhen I visit my uncle's property, it is very fun to ride the \nfour-wheeler around.\n\n",
          "output_type": "stream"
        }
      ],
      "execution_count": 19
    },
    {
      "cell_type": "code",
      "source": "# Creates a list of dinner options.\ndinner_options = ['pasta', 'steak', 'salmon']\nprint(dinner_options)\n\n# Change the first value in list of dinner options from pasta to chicken\ndinner_options[0] = 'chicken'\nprint(dinner_options)\n\n# Uses append() to add a new value to the end of the dinner list.\ndinner_options.append('sushi')\nprint(dinner_options)\n\n# Alters dinner_options to an empty list.\ndinner_options = []\nprint(dinner_options)\n# Uses append() again to recreate the list.\ndinner_options.append('chicken')\ndinner_options.append('steak')\ndinner_options.append('salmon')\ndinner_options.append('sushi')\n\nprint(dinner_options)\n\n# Use the insert() method to add a new element to a list.\n# In the insert() method you first specify the index you are inserting to\n# then you enter the value you wish to insert.\n# Adds a new element at index 0 in the dinner_options list.\n# This operation shifts every other value in the list\n# one position to the right.\ndinner_options.insert(0, 'squash')\nprint(dinner_options)\n\n# Removing items from a list.\n# One way to remove items from a list would be by using the del statement.\n# If you know the position of the item you want to remove you can use del.\ndel dinner_options[1]\nprint(dinner_options)\n\n# Sometimes you might want to use the value of an item after \n# it is removed from the list.\n# You can do this using the .pop() method.\n# The pop method lets you remove an element from the list, but it\n# lets you work with the item after removing it.\n# pop removes the last item in the list\npopped_dinner_options = dinner_options.pop()\nprint(dinner_options)\nprint('\\n' + popped_dinner_options) \n\n# You can use pop() to remove an item in a list at any postion.\n# You do this by including the index of the item you wish \n# to remove in parenthesis.\n\n# Turns popped_dinner_options into a list.\npopped_dinner_options = ['sushi']\n\n# Appends the popped dinner option from dinner_options(index 0).\n# To the popped_dinner_options list.\n# In other words:\n# It removes the first option from the dinner_options list:\n# and places at the  end of the popped_dinner_options list.\npopped_dinner_options.append(dinner_options.pop(0))\n\nprint(f\"\\nDinner options: {dinner_options}\\n\")\nprint(f\"Popped options: {popped_dinner_options}.\\n\")\n\n# When you want to delete an item from a list and not use that item\n# in anyway then use the del statement; if you want to use an item\n# as you remove it, use the pop() method.\n\n# If you only know the value of the option you want to remove \n# from a list. Then you can use the remove() method.\n\n# Uses the remove() method to remove salmon from the dinner_options.\n# Assigns salmon to option_2 and then prints a message removing it\n# from the list of options.\noption_2 = 'salmon'\ndinner_options.remove(option_2)\nprint(f\"We had {option_2} two days ago. Lets remove it from the list.\\n\")\n\n# The remove() method deletes only the first ocurence of the value\n# you specify. If there is a possibility the value appears more than once\n# you'll need to use a loop to determine if all occurences of the value have been removed.\n\ndinner_list = ['salmon', 'steak', 'chicken', 'salmon', 'salmon', 'pasta']\nprint(dinner_list)\n\n# Uses a loop to remove all occurences of salmon.\nfor option in dinner_list:\n    dinner_list.remove(option_2)\n    \nprint(dinner_list)",
      "metadata": {
        "trusted": true
      },
      "outputs": [
        {
          "name": "stdout",
          "text": "['pasta', 'steak', 'salmon']\n['chicken', 'steak', 'salmon']\n['chicken', 'steak', 'salmon', 'sushi']\n[]\n['chicken', 'steak', 'salmon', 'sushi']\n['squash', 'chicken', 'steak', 'salmon', 'sushi']\n['squash', 'steak', 'salmon', 'sushi']\n['squash', 'steak', 'salmon']\n\nsushi\n\nDinner options: ['steak', 'salmon']\n\nPopped options: ['sushi', 'squash'].\n\nWe had salmon two days ago. Lets remove it from the list.\n\n['salmon', 'steak', 'chicken', 'salmon', 'salmon', 'pasta']\n['steak', 'chicken', 'pasta']\n",
          "output_type": "stream"
        }
      ],
      "execution_count": 64
    },
    {
      "cell_type": "code",
      "source": "",
      "metadata": {
        "trusted": true
      },
      "outputs": [],
      "execution_count": 24
    },
    {
      "cell_type": "code",
      "source": "",
      "metadata": {
        "trusted": true
      },
      "outputs": [],
      "execution_count": null
    }
  ]
}