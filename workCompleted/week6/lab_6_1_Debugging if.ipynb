{
 "cells": [
  {
   "cell_type": "markdown",
   "id": "4e30b969",
   "metadata": {},
   "source": [
    "The following cells all have bugs. Correct them."
   ]
  },
  {
   "cell_type": "code",
   "execution_count": 2,
   "id": "e2fc870b",
   "metadata": {},
   "outputs": [
    {
     "name": "stdout",
     "output_type": "stream",
     "text": [
      "Millie is Ember's friend.\n",
      "Ember! That's my girl!\n",
      "River is Ember's friend.\n",
      "Chewy is Ember's friend.\n"
     ]
    }
   ],
   "source": [
    "dogpark_dogs = ['Millie', 'Ember', 'River', 'Chewy']\n",
    "\n",
    "for dog in dogpark_dogs:\n",
    "    if dog == 'Ember':\n",
    "        print(f\"{dog}! That's my girl!\")\n",
    "    else:\n",
    "        print(f\"{dog} is Ember's friend.\")"
   ]
  },
  {
   "cell_type": "markdown",
   "id": "392201a0",
   "metadata": {},
   "source": [
    "Ember won't eat anything old; she gets tired of old bones and doesn't like old treats because they get stale. If it's new, she loves any flavor of bone and will gnaw on it. However, she only likes cheese-flavored biscuits. In the following code, she should not take the treat because it is old. Put in parentheses to make the logic adhere to the description above."
   ]
  },
  {
   "cell_type": "code",
   "execution_count": 12,
   "id": "0df0bbfd",
   "metadata": {},
   "outputs": [
    {
     "name": "stdout",
     "output_type": "stream",
     "text": [
      "Ember sniffs the treat and whines for something else.\n"
     ]
    }
   ],
   "source": [
    "treat = 'bone'\n",
    "flavor = 'basted'\n",
    "age = 'old'\n",
    "if (age == 'new' and (treat == 'biscuit' and flavor == 'cheese' or treat == 'bone')): # Placed parenthesis to first check if age of treat is new, then added second set of paranthesis to check if it is a cheese buiscuit or a bone.\n",
    "    print('Ember happily takes the treat.')\n",
    "else:\n",
    "    print('Ember sniffs the treat and whines for something else.')"
   ]
  },
  {
   "cell_type": "markdown",
   "id": "c4fc639c",
   "metadata": {},
   "source": [
    "Ember needs to get her shots. She should not get the chicken pox vaccine because dogs can't catch chicken pox. For some reason, in the code below she is getting vaccinated with chicken pox, but not getting the rabies and distemper which she needs. Add one term to fix the code."
   ]
  },
  {
   "cell_type": "code",
   "execution_count": 22,
   "id": "aa66728f",
   "metadata": {},
   "outputs": [
    {
     "name": "stdout",
     "output_type": "stream",
     "text": [
      "Ember gets her rabies vaccine.\n",
      "Ember gets her distemper vaccine.\n",
      "Ember doesn't need a chicken pox vaccine!\n"
     ]
    }
   ],
   "source": [
    "human_vaccines = ['chicken pox', 'measles']\n",
    "slated_vaccines = ['rabies', 'distemper', 'chicken pox']\n",
    "\n",
    "for vaccine in slated_vaccines:\n",
    "    if vaccine == 'chicken pox':\n",
    "        print(\"Ember doesn't need a chicken pox vaccine!\")\n",
    "    elif vaccine in human_vaccines:\n",
    "        print(f'Ember gets her {vaccine} vaccine. She gives a slight yelp but keeps wagging.')\n",
    "    else:\n",
    "        print(f'Ember gets her {vaccine} vaccine.')"
   ]
  }
 ],
 "metadata": {
  "kernelspec": {
   "display_name": "Python 3",
   "language": "python",
   "name": "python3"
  },
  "language_info": {
   "codemirror_mode": {
    "name": "ipython",
    "version": 3
   },
   "file_extension": ".py",
   "mimetype": "text/x-python",
   "name": "python",
   "nbconvert_exporter": "python",
   "pygments_lexer": "ipython3",
   "version": "3.11.6"
  }
 },
 "nbformat": 4,
 "nbformat_minor": 5
}
