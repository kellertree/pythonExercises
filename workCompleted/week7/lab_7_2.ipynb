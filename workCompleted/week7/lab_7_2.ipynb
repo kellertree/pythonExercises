{
 "cells": [
  {
   "cell_type": "markdown",
   "metadata": {},
   "source": [
    "Exercise 6-1:"
   ]
  },
  {
   "cell_type": "code",
   "execution_count": 4,
   "metadata": {},
   "outputs": [
    {
     "name": "stdout",
     "output_type": "stream",
     "text": [
      "Name: Jim\n",
      "Last Name: Raynor\n",
      "Age: 52\n",
      "City: Seattle\n"
     ]
    }
   ],
   "source": [
    "# 6-1.\n",
    "person = {\n",
    "    'first_name': 'Jim',\n",
    "    'last_name': 'Raynor',\n",
    "    'age': '52',\n",
    "    'city': 'Seattle',\n",
    "    }\n",
    "\n",
    "print(f\"Name: \" + person['first_name'])\n",
    "print(f\"Last Name: \" + person['last_name'])\n",
    "print(f\"Age: \" + person['age'])\n",
    "print(f\"City: \" + person['city'])"
   ]
  },
  {
   "cell_type": "markdown",
   "metadata": {},
   "source": [
    "Exercise 6-2:"
   ]
  },
  {
   "cell_type": "code",
   "execution_count": 5,
   "metadata": {},
   "outputs": [
    {
     "name": "stdout",
     "output_type": "stream",
     "text": [
      "Jim's favorite number is 42.\n",
      "Sarah's favorite number is 24.\n",
      "Pheonix's favorite number is 13.\n",
      "Jewels's favorite number is 13.\n",
      "Mark's favorite number is 7.\n"
     ]
    }
   ],
   "source": [
    "# 6-2.\n",
    "favorite_numbers = {\n",
    "    'jim': '42',\n",
    "    'sarah': '24',\n",
    "    'pheonix': '13',\n",
    "    'jewels': '13',\n",
    "    'mark': '7',\n",
    "    }\n",
    "\n",
    "\n",
    "# The .item() method is used to retrieve a list key-value pairs.\n",
    "# This is useful when you want to iterate over both the keys and values in a dictionary simultaenously.\n",
    "for name, number in favorite_numbers.items():\n",
    "    print(f\"{name.title()}'s favorite number is {number}.\")"
   ]
  },
  {
   "cell_type": "markdown",
   "metadata": {},
   "source": [
    "Exercise 6-3:"
   ]
  },
  {
   "cell_type": "code",
   "execution_count": 6,
   "metadata": {},
   "outputs": [
    {
     "name": "stdout",
     "output_type": "stream",
     "text": [
      "string: A string is a series of characters.\n",
      "list: A list is an ordered collection of items\n",
      "whitespace: Whitespace refers to any nonprinting character, such as spaces, tabs, and end-f-line symbols.\n",
      "dictionary: A dictionary is an unordered collection of key-value pairs.\n",
      "index: The position of an item or element in a list.\n"
     ]
    }
   ],
   "source": [
    "# 6-3.\n",
    "programming_words = {\n",
    "    'string': 'A string is a series of characters.',\n",
    "    'list': 'A list is an ordered collection of items',\n",
    "    'whitespace': 'Whitespace refers to any nonprinting character, such as spaces, tabs, and end-f-line symbols.',\n",
    "    'dictionary': 'A dictionary is an unordered collection of key-value pairs.',\n",
    "    'index': 'The position of an item or element in a list.',\n",
    "    }\n",
    "\n",
    "for word, definition in programming_words.items():\n",
    "    print(f\"{word}: {definition}\")"
   ]
  },
  {
   "cell_type": "code",
   "execution_count": null,
   "metadata": {},
   "outputs": [],
   "source": []
  }
 ],
 "metadata": {
  "kernelspec": {
   "display_name": "Python 3.7.8 64-bit",
   "language": "python",
   "name": "python3"
  },
  "language_info": {
   "codemirror_mode": {
    "name": "ipython",
    "version": 3
   },
   "file_extension": ".py",
   "mimetype": "text/x-python",
   "name": "python",
   "nbconvert_exporter": "python",
   "pygments_lexer": "ipython3",
   "version": "3.11.6"
  },
  "orig_nbformat": 4,
  "vscode": {
   "interpreter": {
    "hash": "0a54084e6b208ee8d1ce3989ffc20924477a5f55f5a43e22e699a6741623861e"
   }
  }
 },
 "nbformat": 4,
 "nbformat_minor": 2
}
