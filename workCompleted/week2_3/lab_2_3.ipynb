{
 "cells": [
  {
   "cell_type": "markdown",
   "metadata": {},
   "source": [
    "Exercise 2-8:"
   ]
  },
  {
   "cell_type": "code",
   "execution_count": 1,
   "metadata": {},
   "outputs": [
    {
     "name": "stdout",
     "output_type": "stream",
     "text": [
      "8\n",
      "8\n",
      "8\n",
      "8\n",
      "8\n"
     ]
    }
   ],
   "source": [
    "# The code in this block uses the addition, subtraction, multiplcation, and division operations in a way that each result in the number 8. \n",
    "# We use the int function for the division problem to convert the division results from the float 8.0, to the integer 8.\n",
    "\n",
    "print(4 + 4)\n",
    "print(12 - 4)\n",
    "print(2 * 4)\n",
    "print(int(32 / 4))\n",
    "\n",
    "# alternative float from division cancel is to use two forward flashes.\n",
    "print(32//4)"
   ]
  },
  {
   "cell_type": "markdown",
   "metadata": {},
   "source": [
    "Exercise 2-9:"
   ]
  },
  {
   "cell_type": "code",
   "execution_count": 3,
   "metadata": {},
   "outputs": [
    {
     "name": "stdout",
     "output_type": "stream",
     "text": [
      "My favorite number is 30.\n"
     ]
    }
   ],
   "source": [
    "# The code in this block assigns a favorite number to the variable 'favorite_number'.\n",
    "# It then assigns the variable 'message' with an f-string that reveals the number in the form of a message.\n",
    "\n",
    "favorite_number = 30\n",
    "message = f'My favorite number is {favorite_number}.'\n",
    "print(message)"
   ]
  }
 ],
 "metadata": {
  "kernelspec": {
   "display_name": "Python 3.7.8 64-bit",
   "language": "python",
   "name": "python3"
  },
  "language_info": {
   "codemirror_mode": {
    "name": "ipython",
    "version": 3
   },
   "file_extension": ".py",
   "mimetype": "text/x-python",
   "name": "python",
   "nbconvert_exporter": "python",
   "pygments_lexer": "ipython3",
   "version": "3.11.5"
  },
  "orig_nbformat": 4,
  "vscode": {
   "interpreter": {
    "hash": "0a54084e6b208ee8d1ce3989ffc20924477a5f55f5a43e22e699a6741623861e"
   }
  }
 },
 "nbformat": 4,
 "nbformat_minor": 2
}
