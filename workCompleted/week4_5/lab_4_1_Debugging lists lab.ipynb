{
 "cells": [
  {
   "cell_type": "code",
   "execution_count": 3,
   "id": "9cfcfc42",
   "metadata": {},
   "outputs": [],
   "source": [
    "# Each list reference needed to be a string added '' to fix.\n",
    "stars = ['Sol', 'Proxima Centauri', 'Alpha Centauri A', 'Alpha Centauri B']\n"
   ]
  },
  {
   "cell_type": "code",
   "execution_count": 2,
   "id": "da30a0cc",
   "metadata": {},
   "outputs": [],
   "source": [
    "# List was not closed properly, corrected issue by switching the closing parentheses with a closing bracket\n",
    "rollercoasters = ['Twisted Colossus', 'Twisted Timbers', 'Medusa', 'Maverick']\n"
   ]
  },
  {
   "cell_type": "code",
   "execution_count": 4,
   "id": "9c1cbf0f",
   "metadata": {},
   "outputs": [],
   "source": [
    "# Semi-colons were being used as seperators instead of commas and andorra was not enclosed as a string.\n",
    "countries = ['Afghanistan', 'Albania', 'Algeria', 'Andorra']"
   ]
  },
  {
   "cell_type": "markdown",
   "id": "a539afab",
   "metadata": {},
   "source": [
    "Print out \"Alpha Centauri A\"."
   ]
  },
  {
   "cell_type": "code",
   "execution_count": 6,
   "id": "7e820311",
   "metadata": {},
   "outputs": [
    {
     "name": "stdout",
     "output_type": "stream",
     "text": [
      "Alpha Centauri A\n"
     ]
    }
   ],
   "source": [
    "# Incorrect index was being used to retrieve \"Alpha Centauri A\". \n",
    "print(stars[2])"
   ]
  },
  {
   "cell_type": "markdown",
   "id": "3c7115c5",
   "metadata": {},
   "source": [
    "Print out \"Maverick\"."
   ]
  },
  {
   "cell_type": "code",
   "execution_count": 7,
   "id": "81a7e3a8",
   "metadata": {},
   "outputs": [
    {
     "name": "stdout",
     "output_type": "stream",
     "text": [
      "Maverick\n"
     ]
    }
   ],
   "source": [
    "# The 1 was missing after the negative symbol.\n",
    "print(rollercoasters[-1])"
   ]
  },
  {
   "cell_type": "markdown",
   "id": "857c538b",
   "metadata": {},
   "source": [
    "Change \"Twisted Timbers\" to \"Big Apple Coaster\""
   ]
  },
  {
   "cell_type": "code",
   "execution_count": 8,
   "id": "ecdca79a",
   "metadata": {},
   "outputs": [],
   "source": [
    "# Indexs two is not the same as 2 when retrieving a value from a list.\n",
    "rollercoasters[2] = 'Big Apple Coaster'"
   ]
  },
  {
   "cell_type": "markdown",
   "id": "2eb2b7c5",
   "metadata": {},
   "source": [
    "Add \"Antigua\" to the end  of the list of countries:"
   ]
  },
  {
   "cell_type": "code",
   "execution_count": 16,
   "id": "98a354b5",
   "metadata": {},
   "outputs": [
    {
     "name": "stdout",
     "output_type": "stream",
     "text": [
      "['Afghanistan', 'Albania', 'Algeria', 'Andorra', 'Antigua']\n"
     ]
    }
   ],
   "source": [
    "# Used append function to add antigua to the end of the list. Printed to verify.\n",
    "# Becareful when runing this cell each time you do Antigua will be added again, resulting in multiple entries.\n",
    "# If you do accidently add more Antigua to the list, use del statements or .remove() function to correct.\n",
    "countries.append(\"Antigua\")\n",
    "print(countries)"
   ]
  },
  {
   "cell_type": "markdown",
   "id": "d209c108",
   "metadata": {},
   "source": [
    "Insert 'Angola' just prior to 'Antiqua':"
   ]
  },
  {
   "cell_type": "code",
   "execution_count": 18,
   "id": "6a447c72",
   "metadata": {},
   "outputs": [],
   "source": [
    "\n",
    "# Command to insert Angola was no correct. This has been corrected.\n",
    "countries.insert(0, 'Angola')"
   ]
  }
 ],
 "metadata": {
  "kernelspec": {
   "display_name": "Python 3",
   "language": "python",
   "name": "python3"
  },
  "language_info": {
   "codemirror_mode": {
    "name": "ipython",
    "version": 3
   },
   "file_extension": ".py",
   "mimetype": "text/x-python",
   "name": "python",
   "nbconvert_exporter": "python",
   "pygments_lexer": "ipython3",
   "version": "3.11.5"
  }
 },
 "nbformat": 4,
 "nbformat_minor": 5
}
