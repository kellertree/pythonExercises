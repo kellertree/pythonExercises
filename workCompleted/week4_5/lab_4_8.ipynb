{
 "cells": [
  {
   "cell_type": "markdown",
   "metadata": {},
   "source": [
    "Exercise 4-10:"
   ]
  },
  {
   "cell_type": "code",
   "execution_count": 4,
   "metadata": {},
   "outputs": [
    {
     "name": "stdout",
     "output_type": "stream",
     "text": [
      "[1, 8, 27, 64, 125, 216, 343, 512, 729, 1000]\n",
      "The first three items in the list are: [1, 8, 27].\n",
      "Three items in the middle of the list are: [125, 216, 343].\n",
      "The last three items in the list are: [512, 729, 1000].\n"
     ]
    }
   ],
   "source": [
    "# 4-10. Slices: Slice the first 3 values, middle 3 values and last 3 values and print.\n",
    "cubes = [cube**3 for cube in range(1,11)]\n",
    "print(cubes)\n",
    "\n",
    "print(f'The first three items in the list are: {cubes[0:3]}.')\n",
    "\n",
    "print(f'Three items in the middle of the list are: {cubes[4:7]}.')\n",
    "\n",
    "print(f'The last three items in the list are: {cubes[7:10]}.')"
   ]
  },
  {
   "cell_type": "markdown",
   "metadata": {},
   "source": [
    "Exercise 4-11:"
   ]
  },
  {
   "cell_type": "code",
   "execution_count": 5,
   "metadata": {},
   "outputs": [
    {
     "name": "stdout",
     "output_type": "stream",
     "text": [
      "cheese\n",
      "pepperoni\n",
      "vegetable\n",
      "I like cheese pizza.\n",
      "I like pepperoni pizza.\n",
      "I like vegetable pizza.\n",
      "\n",
      "I really love pizza!\n",
      "\n",
      "My favorite pizzas are:\n",
      "cheese\n",
      "pepperoni\n",
      "vegetable\n",
      "anchovie\n",
      "My friends favorite pizzas are:\n",
      "cheese\n",
      "pepperoni\n",
      "vegetable\n",
      "pineapple\n"
     ]
    }
   ],
   "source": [
    "# 4-11. My Pizzas, Your Pizzas:\n",
    "pizza_types = ['cheese', 'pepperoni', 'vegetable']\n",
    "for pizza in pizza_types:\n",
    "    print(pizza)\n",
    "\n",
    "# Modify the for loop to print a sentence using the name of the pizza.\n",
    "# Instead of printing just the name of hte pizza.\n",
    "for pizza in pizza_types:\n",
    "    print(\"I like \" + pizza + \" pizza.\")\n",
    "    \n",
    "print(\"\\nI really love pizza!\\n\")\n",
    "\n",
    "# We use slice [:] to make a copy of the pizza_type list.\n",
    "friends_pizzas = pizza_types[:]\n",
    "\n",
    "pizza_types.append('anchovie')\n",
    "friends_pizzas.append('pineapple')\n",
    "\n",
    "print(f'My favorite pizzas are:')\n",
    "for pizza in pizza_types:\n",
    "    print(pizza)\n",
    "\n",
    "print(f'My friends favorite pizzas are:')\n",
    "for pizza in friends_pizzas:\n",
    "    print(pizza)"
   ]
  },
  {
   "cell_type": "code",
   "execution_count": null,
   "metadata": {},
   "outputs": [],
   "source": []
  }
 ],
 "metadata": {
  "kernelspec": {
   "display_name": "Python 3.7.8 64-bit",
   "language": "python",
   "name": "python3"
  },
  "language_info": {
   "codemirror_mode": {
    "name": "ipython",
    "version": 3
   },
   "file_extension": ".py",
   "mimetype": "text/x-python",
   "name": "python",
   "nbconvert_exporter": "python",
   "pygments_lexer": "ipython3",
   "version": "3.11.5"
  },
  "orig_nbformat": 4,
  "vscode": {
   "interpreter": {
    "hash": "0a54084e6b208ee8d1ce3989ffc20924477a5f55f5a43e22e699a6741623861e"
   }
  }
 },
 "nbformat": 4,
 "nbformat_minor": 2
}
