{
 "cells": [
  {
   "cell_type": "markdown",
   "metadata": {},
   "source": [
    "Exercise 3-8:"
   ]
  },
  {
   "cell_type": "code",
   "execution_count": 1,
   "metadata": {},
   "outputs": [
    {
     "name": "stdout",
     "output_type": "stream",
     "text": [
      "['Japan', 'Scotland', 'Sequoia National Park', 'Olympic National Park', 'Iceland']\n",
      "['Iceland', 'Japan', 'Olympic National Park', 'Scotland', 'Sequoia National Park']\n",
      "['Japan', 'Scotland', 'Sequoia National Park', 'Olympic National Park', 'Iceland']\n",
      "['Sequoia National Park', 'Scotland', 'Olympic National Park', 'Japan', 'Iceland']\n",
      "['Japan', 'Scotland', 'Sequoia National Park', 'Olympic National Park', 'Iceland']\n",
      "['Iceland', 'Japan', 'Olympic National Park', 'Scotland', 'Sequoia National Park']\n",
      "['Sequoia National Park', 'Scotland', 'Olympic National Park', 'Japan', 'Iceland']\n"
     ]
    }
   ],
   "source": [
    "#3.8. Seeing the World: Think of five places in the world you'd like to visit.\n",
    "places_to_visit = ['Japan', 'Scotland', 'Sequoia National Park', 'Olympic National Park', 'Iceland']\n",
    "print(places_to_visit)\n",
    "\n",
    "# Prints out a temporary sorted list in alphabetical order.\n",
    "print(sorted(places_to_visit))\n",
    "\n",
    "# Prints out the list in original order.\n",
    "print(places_to_visit)\n",
    "\n",
    "# Prints out the list in a tempory reverse alphabetically sorted order.\n",
    "print(sorted(places_to_visit, reverse=True))\n",
    "\n",
    "# Prints out the list to show it's orignial order has not changed.\n",
    "print(places_to_visit)\n",
    "\n",
    "# Uses the sort() method to change the list so it is stored in alphabetical order.\n",
    "places_to_visit.sort()\n",
    "print(places_to_visit)\n",
    "\n",
    "# Uses sort(rever=True) method to change the list so it is stored in reverse alphabetical order.\n",
    "places_to_visit.sort(reverse=True)\n",
    "print(places_to_visit)"
   ]
  },
  {
   "cell_type": "markdown",
   "metadata": {},
   "source": [
    "Exercise 3-9:"
   ]
  },
  {
   "cell_type": "code",
   "execution_count": 2,
   "metadata": {},
   "outputs": [
    {
     "name": "stdout",
     "output_type": "stream",
     "text": [
      "I invited 3 guests to dinner.\n"
     ]
    }
   ],
   "source": [
    "# 3-9. Dinner Guests: Uses len() function to determine how many people are invited to dinner.\n",
    "guest_list = ['remi', 'andrew', 'steven']\n",
    "numberofguests = len(guest_list)\n",
    "print(f\"I invited {numberofguests} guests to dinner.\")"
   ]
  },
  {
   "cell_type": "markdown",
   "metadata": {},
   "source": [
    "Exercise 3-10:"
   ]
  },
  {
   "cell_type": "code",
   "execution_count": 4,
   "metadata": {},
   "outputs": [
    {
     "name": "stdout",
     "output_type": "stream",
     "text": [
      "['null', 'python programming', 'structured query language', 'databases', 'data analytics', 'data science']\n",
      "['data science', 'data analytics', 'databases', 'structured query language', 'python programming', 'null']\n",
      "['structured query language', 'python programming', 'null', 'databases', 'data science', 'data analytics']\n",
      "['data analytics', 'data science', 'databases', 'null', 'python programming', 'structured query language']\n",
      "['structured query language', 'python programming', 'null', 'databases', 'data science', 'data analytics']\n",
      "['data analytics', 'data science', 'databases', 'null', 'python programming', 'structured query language']\n",
      "['structured query language', 'python programming', 'null', 'databases', 'data science', 'data analytics']\n",
      "['data analytics', 'data science', 'databases', 'null', 'python programming', 'structured query language']\n",
      "['data analytics', 'data science', 'databases', 'python programming', 'structured query language']\n",
      "Since we are still testing functions I will reinsert null.\n",
      "\n",
      "['null', 'data analytics', 'data science', 'databases', 'python programming', 'structured query language']\n",
      "['data analytics', 'data science', 'databases', 'python programming', 'structured query language']\n",
      "['data analytics', 'data science', 'databases', 'python programming', 'structured query language', 'null']\n",
      "\n",
      "The last value is null.\n",
      "\n",
      "Since the last value in our list is null.\n",
      "It is important we remove the null value from our list with pop.\n",
      "By using the .pop() function we can use null one time after its removal.\n",
      "\n",
      "We remove Null from our study topic list.\n",
      "\n",
      "['data analytics', 'data science', 'databases', 'python programming', 'structured query language']\n",
      "\n",
      "There are now 5 in my list.\n",
      "\n",
      "It is my goal to study Data Analytics and find work in the tech industry.\n",
      "It is my goal to study Data Science and find work in the tech industry.\n",
      "It is my goal to study Databases and find work in the tech industry.\n",
      "It is my goal to study Python Programming and find work in the tech industry.\n",
      "It is my goal to study Structured Query Language and find work in the tech industry.\n"
     ]
    }
   ],
   "source": [
    "# 3-10. Every Function: This program runs through every function learned in chapter 3\n",
    "study_topics = ['null', 'python programming', 'structured query language', 'databases', 'data analytics', 'data science'] # Creates a list to be referenced.\n",
    "print(study_topics)\n",
    "\n",
    "study_topics.reverse() # .reverse() reverses the order of the list permanently you can also use it to switch back.\n",
    "print(study_topics)\n",
    "\n",
    "study_topics.sort(reverse=True) # .sort(reverse=True) permanently reorders the list reverse alphabetically.\n",
    "print(study_topics)\n",
    "\n",
    "print(sorted(study_topics)) # sorted(study(list)) temporarily produces a sorted list without changing the lists value.\n",
    "print(study_topics)\n",
    "\n",
    "study_topics.sort() # .sort() permanently reorders the list alphabetically.\n",
    "print(study_topics)\n",
    "\n",
    "print(sorted(study_topics, reverse=True)) # sorted(study(list, reveser=True)) temporarily produces a reverse alphabetically sorted list without changing the lists value.\n",
    "\n",
    "print(study_topics)\n",
    "\n",
    "study_topics.remove('null') # .remove() scans the list and removes the label given.\n",
    "\n",
    "print(study_topics)\n",
    "\n",
    "print('Since we are still testing functions I will reinsert null.\\n')\n",
    "\n",
    "study_topics.insert(0, 'null') # Inserts 'null' at index 0.\n",
    "\n",
    "print(study_topics)\n",
    "\n",
    "del study_topics[0] # Deletes the value at index 0, in this case null.\n",
    "\n",
    "print(study_topics)\n",
    "\n",
    "study_topics.append('null') # Attaches the value 'null' to the end of the list.\n",
    "\n",
    "print(study_topics)\n",
    "\n",
    "study_topics[-1] # Selects and prints the last value in the list.\n",
    "\n",
    "last_value = study_topics[-1] # Creates the variable with the label at index -1, which is null.\n",
    "print(f'\\nThe last value is {last_value}.')\n",
    "\n",
    "print(f'\\nSince the last value in our list is {last_value}.')\n",
    "print(f'It is important we remove the null value from our list with pop.')\n",
    "print(f'By using the .pop() function we can use null one time after its removal.')\n",
    "print(f\"\\nWe remove {study_topics.pop(-1).title()} from our study topic list.\\n\")\n",
    "\n",
    "print(study_topics)\n",
    "\n",
    "number_of_topics = len(study_topics)\n",
    "\n",
    "print(f\"\\nThere are now {number_of_topics} in my list.\\n\")\n",
    "print(f\"It is my goal to study {study_topics[0].title()} and find work in the tech industry.\")\n",
    "print(f\"It is my goal to study {study_topics[1].title()} and find work in the tech industry.\")\n",
    "print(f\"It is my goal to study {study_topics[2].title()} and find work in the tech industry.\")\n",
    "print(f\"It is my goal to study {study_topics[3].title()} and find work in the tech industry.\")\n",
    "print(f\"It is my goal to study {study_topics[4].title()} and find work in the tech industry.\")\n",
    "\n",
    "\n",
    "\n"
   ]
  },
  {
   "cell_type": "code",
   "execution_count": null,
   "metadata": {},
   "outputs": [],
   "source": []
  }
 ],
 "metadata": {
  "kernelspec": {
   "display_name": "Python 3.7.8 64-bit",
   "language": "python",
   "name": "python3"
  },
  "language_info": {
   "codemirror_mode": {
    "name": "ipython",
    "version": 3
   },
   "file_extension": ".py",
   "mimetype": "text/x-python",
   "name": "python",
   "nbconvert_exporter": "python",
   "pygments_lexer": "ipython3",
   "version": "3.11.5"
  },
  "orig_nbformat": 4,
  "vscode": {
   "interpreter": {
    "hash": "0a54084e6b208ee8d1ce3989ffc20924477a5f55f5a43e22e699a6741623861e"
   }
  }
 },
 "nbformat": 4,
 "nbformat_minor": 2
}
