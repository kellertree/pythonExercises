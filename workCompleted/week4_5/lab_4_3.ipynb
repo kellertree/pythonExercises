{
 "cells": [
  {
   "cell_type": "markdown",
   "metadata": {},
   "source": [
    "Exercise 3-4:"
   ]
  },
  {
   "cell_type": "code",
   "execution_count": 1,
   "metadata": {},
   "outputs": [
    {
     "name": "stdout",
     "output_type": "stream",
     "text": [
      "['Remi', 'Andrew', 'Steven']\n",
      "Hello Remi! Would you like to get dinner tonight?\n",
      "Hello Andrew! Would you like to get dinner tonight?\n",
      "Hello Steven! Would you like to get dinner tonight?\n"
     ]
    }
   ],
   "source": [
    "# 3-4. Guest List: Make a list that includes at least three people you'd like to meet.\n",
    "# Then use your list to print am essage to each person, inviting them to dinner.\n",
    "guest_list = ['Remi', 'Andrew', 'Steven']\n",
    "print(guest_list)\n",
    "\n",
    "print('Hello ' + guest_list[0] + '! Would you like to get dinner tonight?')\n",
    "print('Hello ' + guest_list[1] + '! Would you like to get dinner tonight?')\n",
    "print('Hello ' + guest_list[2] + '! Would you like to get dinner tonight?')"
   ]
  },
  {
   "cell_type": "markdown",
   "metadata": {},
   "source": [
    "Exercise 3-5:"
   ]
  },
  {
   "cell_type": "code",
   "execution_count": 2,
   "metadata": {},
   "outputs": [
    {
     "name": "stdout",
     "output_type": "stream",
     "text": [
      "Hello Remi! Would you like to get dinner tonight?\n",
      "Hello Andrew! Would you like to get dinner tonight?\n",
      "Hello Steven! Would you like to get dinner tonight? \n",
      "\n",
      "It turns out that Andrew will not be able to make it.\n",
      "\n",
      "Hello Remi! Would you like to get dinner tonight?\n",
      "Hello Emmie! Would you like to get dinner tonight?\n",
      "Hello Steven! Would you like to get dinner tonight?\n"
     ]
    }
   ],
   "source": [
    "# 3-5. Changing Guest List: It turns out one of your guests can't make the dinner so you need to invite someone else.\n",
    "# Use the list to send out a new set of invitations.\n",
    "guest_list = ['remi', 'andrew', 'steven']\n",
    "\n",
    "print('Hello ' + guest_list[0].title() + '! Would you like to get dinner tonight?')\n",
    "print('Hello ' + guest_list[1].title()  + '! Would you like to get dinner tonight?')\n",
    "print('Hello ' + guest_list[2].title() + '! Would you like to get dinner tonight? \\n')\n",
    "print('It turns out that ' + guest_list.pop(1).title() + ' will not be able to make it.\\n')\n",
    "\n",
    "guest_list.insert(1, 'emmie') # Inserts Emmie into index 1.\n",
    "\n",
    "print('Hello ' + guest_list[0].title() + '! Would you like to get dinner tonight?')\n",
    "print('Hello ' + guest_list[1].title() + '! Would you like to get dinner tonight?')\n",
    "print('Hello ' + guest_list[2].title() + '! Would you like to get dinner tonight?')\n"
   ]
  },
  {
   "cell_type": "markdown",
   "metadata": {},
   "source": [
    "Exercise 3-6:"
   ]
  },
  {
   "cell_type": "code",
   "execution_count": 3,
   "metadata": {},
   "outputs": [
    {
     "name": "stdout",
     "output_type": "stream",
     "text": [
      "Hello Remi! Would you like to get dinner tonight?\n",
      "Hello Andrew! Would you like to get dinner tonight?\n",
      "Hello Steven! Would you like to get dinner tonight? \n",
      "\n",
      "It turns out that Andrew will not be able to make it.\n",
      "\n",
      "Hello Remi! Would you like to get dinner tonight?\n",
      "Hello Emmie! Would you like to get dinner tonight?\n",
      "Hello Steven! Would you like to get dinner tonight?\n",
      "\n",
      "Just a quick update team I managed to find a bigger table.\n",
      "\n",
      "Hello Remi! Would you like to get dinner tonight?\n",
      "Hello Emmie! Would you like to get dinner tonight?\n",
      "Hello Steven! Would you like to get dinner tonight?\n",
      "Hello Colin! Would you like to get dinner tonight?\n",
      "Hello Leah! Would you like to get dinner tonight?\n",
      "Hello Aria! Would you like to get dinner tonight?\n"
     ]
    }
   ],
   "source": [
    "# 3-6. More Guests: You just found a bigger dinner table. Invite three more guests.\n",
    "guest_list = ['remi', 'andrew', 'steven']\n",
    "\n",
    "print('Hello ' + guest_list[0].title() + '! Would you like to get dinner tonight?')\n",
    "print('Hello ' + guest_list[1].title()  + '! Would you like to get dinner tonight?')\n",
    "print('Hello ' + guest_list[2].title() + '! Would you like to get dinner tonight? \\n')\n",
    "print('It turns out that ' + guest_list.pop(1).title() + ' will not be able to make it.\\n')\n",
    "\n",
    "guest_list.insert(1, 'emmie') # Inserts Emmie into index 1.\n",
    "\n",
    "print('Hello ' + guest_list[0].title() + '! Would you like to get dinner tonight?')\n",
    "print('Hello ' + guest_list[1].title() + '! Would you like to get dinner tonight?')\n",
    "print('Hello ' + guest_list[2].title() + '! Would you like to get dinner tonight?\\n')\n",
    "\n",
    "print('Just a quick update team I managed to find a bigger table.\\n')\n",
    "\n",
    "guest_list.insert(3, 'colin')\n",
    "guest_list.insert(4, 'leah')\n",
    "guest_list.append('aria')\n",
    "\n",
    "print('Hello ' + guest_list[0].title() + '! Would you like to get dinner tonight?')\n",
    "print('Hello ' + guest_list[1].title() + '! Would you like to get dinner tonight?')\n",
    "print('Hello ' + guest_list[2].title() + '! Would you like to get dinner tonight?')\n",
    "print('Hello ' + guest_list[3].title() + '! Would you like to get dinner tonight?')\n",
    "print('Hello ' + guest_list[-2].title() + '! Would you like to get dinner tonight?')\n",
    "print('Hello ' + guest_list[-1].title() + '! Would you like to get dinner tonight?')\n",
    "\n",
    "\n",
    "\n",
    "\n"
   ]
  },
  {
   "cell_type": "markdown",
   "metadata": {},
   "source": [
    "Exercise 3-7:"
   ]
  },
  {
   "cell_type": "code",
   "execution_count": 4,
   "metadata": {},
   "outputs": [
    {
     "name": "stdout",
     "output_type": "stream",
     "text": [
      "Hello Remi! Would you like to get dinner tonight?\n",
      "Hello Andrew! Would you like to get dinner tonight?\n",
      "Hello Steven! Would you like to get dinner tonight? \n",
      "\n",
      "It turns out that Andrew will not be able to make it.\n",
      "\n",
      "Hello Remi! Would you like to get dinner tonight?\n",
      "Hello Emmie! Would you like to get dinner tonight?\n",
      "Hello Steven! Would you like to get dinner tonight?\n",
      "\n",
      "Just a quick update team I managed to find a bigger table.\n",
      "\n",
      "Hello Remi! Would you like to get dinner tonight?\n",
      "Hello Emmie! Would you like to get dinner tonight?\n",
      "Hello Steven! Would you like to get dinner tonight?\n",
      "Hello Colin! Would you like to get dinner tonight?\n",
      "Hello Leah! Would you like to get dinner tonight?\n",
      "Hello Aria! Would you like to get dinner tonight?\n",
      "\n",
      "I am only able to invite two people for dinner.\n",
      "\n",
      "I am sorry that I cannot invite you to dinner tonight Aria.\n",
      "I am sorry that I cannot invite you to dinner tonight Leah.\n",
      "I am sorry that I cannot invite you to dinner tonight Colin.\n",
      "I am sorry that I cannot invite you to dinner tonight Steven.\n",
      "\n",
      "Hey Remi you are still invited for dinner.\n",
      "Hey Emmie you are still invited for dinner.\n",
      "[]\n"
     ]
    }
   ],
   "source": [
    "# 3-7. Shrinking Guest List: The table won't arrive in time for the dinner, and you have space for only tow guest.\n",
    "guest_list = ['remi', 'andrew', 'steven']\n",
    "\n",
    "print('Hello ' + guest_list[0].title() + '! Would you like to get dinner tonight?')\n",
    "print('Hello ' + guest_list[1].title()  + '! Would you like to get dinner tonight?')\n",
    "print('Hello ' + guest_list[2].title() + '! Would you like to get dinner tonight? \\n')\n",
    "print('It turns out that ' + guest_list.pop(1).title() + ' will not be able to make it.\\n')\n",
    "\n",
    "guest_list.insert(1, 'emmie') # Inserts Emmie into index 1.\n",
    "\n",
    "print('Hello ' + guest_list[0].title() + '! Would you like to get dinner tonight?')\n",
    "print('Hello ' + guest_list[1].title() + '! Would you like to get dinner tonight?')\n",
    "print('Hello ' + guest_list[2].title() + '! Would you like to get dinner tonight?\\n')\n",
    "\n",
    "print('Just a quick update team I managed to find a bigger table.\\n')\n",
    "\n",
    "guest_list.insert(3, 'colin')\n",
    "guest_list.insert(4, 'leah')\n",
    "guest_list.append('aria')\n",
    "\n",
    "print('Hello ' + guest_list[0].title() + '! Would you like to get dinner tonight?')\n",
    "print('Hello ' + guest_list[1].title() + '! Would you like to get dinner tonight?')\n",
    "print('Hello ' + guest_list[2].title() + '! Would you like to get dinner tonight?')\n",
    "print('Hello ' + guest_list[3].title() + '! Would you like to get dinner tonight?')\n",
    "print('Hello ' + guest_list[-2].title() + '! Would you like to get dinner tonight?')\n",
    "print('Hello ' + guest_list[-1].title() + '! Would you like to get dinner tonight?\\n')\n",
    "\n",
    "print('I am only able to invite two people for dinner.\\n')\n",
    "\n",
    "# Each time we pop the list removes the index requested, therefore the index placement changes each time you pop(). \n",
    "# That is why there is -1, -1, -1, -1 in the guestlist.pop(). Each time we remove someone that value is gone and the list is shorter.\n",
    "# Python runs top down so each time you pop the index value for the element shifts to whatever is next inline.\n",
    "print(f'I am sorry that I cannot invite you to dinner tonight {guest_list.pop(-1).title()}.')\n",
    "print(f'I am sorry that I cannot invite you to dinner tonight {guest_list.pop(-1).title()}.')\n",
    "print(f'I am sorry that I cannot invite you to dinner tonight {guest_list.pop(-1).title()}.')\n",
    "print(f'I am sorry that I cannot invite you to dinner tonight {guest_list.pop(-1).title()}.\\n')\n",
    "print(f'Hey {guest_list[0].title()} you are still invited for dinner.')\n",
    "print(f'Hey {guest_list[1].title()} you are still invited for dinner.')\n",
    "\n",
    "# When we run the del statement we are del the value that is at the given index.  \n",
    "\n",
    "del guest_list[0]\n",
    "del guest_list[0] # Since we deleted the value/element in 0 whatever was in index 1 drops down to index 0.\n",
    "\n",
    "print(guest_list)\n",
    "\n",
    "\n"
   ]
  },
  {
   "cell_type": "code",
   "execution_count": null,
   "metadata": {},
   "outputs": [],
   "source": []
  }
 ],
 "metadata": {
  "kernelspec": {
   "display_name": "Python 3.7.8 64-bit",
   "language": "python",
   "name": "python3"
  },
  "language_info": {
   "codemirror_mode": {
    "name": "ipython",
    "version": 3
   },
   "file_extension": ".py",
   "mimetype": "text/x-python",
   "name": "python",
   "nbconvert_exporter": "python",
   "pygments_lexer": "ipython3",
   "version": "3.11.5"
  },
  "orig_nbformat": 4,
  "vscode": {
   "interpreter": {
    "hash": "0a54084e6b208ee8d1ce3989ffc20924477a5f55f5a43e22e699a6741623861e"
   }
  }
 },
 "nbformat": 4,
 "nbformat_minor": 2
}
