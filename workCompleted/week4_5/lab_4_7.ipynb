{
 "cells": [
  {
   "cell_type": "markdown",
   "metadata": {},
   "source": [
    "Exercise 4-3:"
   ]
  },
  {
   "cell_type": "code",
   "execution_count": 1,
   "metadata": {},
   "outputs": [
    {
     "name": "stdout",
     "output_type": "stream",
     "text": [
      "1\n",
      "2\n",
      "3\n",
      "4\n",
      "5\n",
      "6\n",
      "7\n",
      "8\n",
      "9\n",
      "10\n",
      "11\n",
      "12\n",
      "13\n",
      "14\n",
      "15\n",
      "16\n",
      "17\n",
      "18\n",
      "19\n",
      "20\n"
     ]
    }
   ],
   "source": [
    "# 4-3. Counting to Twenty: Use a for loop to print the numbers from 1 to 20, inclusive.\n",
    "numbers = list(range(1, 21))\n",
    "for number in numbers:\n",
    "    print(number)"
   ]
  },
  {
   "cell_type": "markdown",
   "metadata": {},
   "source": [
    "Exercise 4-5:"
   ]
  },
  {
   "cell_type": "code",
   "execution_count": 2,
   "metadata": {},
   "outputs": [
    {
     "name": "stdout",
     "output_type": "stream",
     "text": [
      "The minimum number in numbers_to_one_million is 1.\n",
      "The maximum number in numbers_to_one_million is 1000000.\n",
      "The sum of all numbers in numbers_to_one_million is 500000500000.\n"
     ]
    }
   ],
   "source": [
    "# 4-5. Summing a Million: Make a list of the numbers from one to one million,\n",
    "# and then use the min() and max() to make sure your list actually starts at\n",
    "# one and ends at one million. Also, use the sum() function to see how quickly\n",
    "# Python can add a million numbers.\n",
    "numbers_to_one_million = list(range(1,1000001))\n",
    "\n",
    "print(f\"The minimum number in numbers_to_one_million is {min(numbers_to_one_million)}.\")\n",
    "print(f\"The maximum number in numbers_to_one_million is {max(numbers_to_one_million)}.\")\n",
    "print(f\"The sum of all numbers in numbers_to_one_million is {sum(numbers_to_one_million)}.\")\n"
   ]
  },
  {
   "cell_type": "markdown",
   "metadata": {},
   "source": [
    "Exercise 4-6:"
   ]
  },
  {
   "cell_type": "code",
   "execution_count": 4,
   "metadata": {},
   "outputs": [
    {
     "name": "stdout",
     "output_type": "stream",
     "text": [
      "[1, 3, 5, 7, 9, 11, 13, 15, 17, 19]\n"
     ]
    }
   ],
   "source": [
    "# 4-6. Odd Numbers: Use the third argument of the range() function to make a list\n",
    "# of the odd numbers from 1 to 20. Use a for loop to print the numbers in your list.\n",
    "numbers = [number for number in range(1, 21, 2)]\n",
    "print(numbers)"
   ]
  },
  {
   "cell_type": "markdown",
   "metadata": {},
   "source": [
    "Exercise 4-8:"
   ]
  },
  {
   "cell_type": "code",
   "execution_count": 5,
   "metadata": {},
   "outputs": [
    {
     "name": "stdout",
     "output_type": "stream",
     "text": [
      "1\n",
      "8\n",
      "27\n",
      "64\n",
      "125\n",
      "216\n",
      "343\n",
      "512\n",
      "729\n",
      "1000\n"
     ]
    }
   ],
   "source": [
    "# 4-8. Cubes: A number raised to the third power is called a cube.\n",
    "# For example, the cube of 2 is written as 2**3 in Python.\n",
    "# Make a list of the first 10 cubes (that is, the cube of each integer from 1 through 10),\n",
    "# and use a for loop to print out the value of each cube.\n",
    "cubes = []\n",
    "\n",
    "for number in range(1, 11):\n",
    "    cube = number**3\n",
    "    cubes.append(cube)\n",
    "\n",
    "for cube in cubes:\n",
    "    print(cube)\n",
    "   \n"
   ]
  },
  {
   "cell_type": "markdown",
   "metadata": {},
   "source": [
    "Exercise 4-9:"
   ]
  },
  {
   "cell_type": "code",
   "execution_count": 6,
   "metadata": {},
   "outputs": [
    {
     "name": "stdout",
     "output_type": "stream",
     "text": [
      "[1, 8, 27, 64, 125, 216, 343, 512, 729, 1000]\n"
     ]
    }
   ],
   "source": [
    "# 4-9. Cube Comprehension: Use list comprehension to generate a list of the first 10 cubes.\n",
    "cubes = [cube**3 for cube in range(1,11)]\n",
    "print(cubes)"
   ]
  },
  {
   "cell_type": "code",
   "execution_count": null,
   "metadata": {},
   "outputs": [],
   "source": []
  }
 ],
 "metadata": {
  "kernelspec": {
   "display_name": "Python 3.7.8 64-bit",
   "language": "python",
   "name": "python3"
  },
  "language_info": {
   "codemirror_mode": {
    "name": "ipython",
    "version": 3
   },
   "file_extension": ".py",
   "mimetype": "text/x-python",
   "name": "python",
   "nbconvert_exporter": "python",
   "pygments_lexer": "ipython3",
   "version": "3.11.5"
  },
  "orig_nbformat": 4,
  "vscode": {
   "interpreter": {
    "hash": "0a54084e6b208ee8d1ce3989ffc20924477a5f55f5a43e22e699a6741623861e"
   }
  }
 },
 "nbformat": 4,
 "nbformat_minor": 2
}
