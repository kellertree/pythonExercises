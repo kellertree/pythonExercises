{
 "cells": [
  {
   "cell_type": "markdown",
   "metadata": {},
   "source": [
    "Import and call here:"
   ]
  },
  {
   "cell_type": "code",
   "execution_count": 1,
   "metadata": {},
   "outputs": [
    {
     "name": "stdout",
     "output_type": "stream",
     "text": [
      "{'artist': 'True Pirate', 'album': 'Wolves of the Sea'}\n",
      "{'artist': 'Adrian Von Ziegler', 'album': 'Celtic Forest', 'tracks': 12}\n",
      "{'artist': 'Casting Spells', 'album': 'Whimsical Eve', 'tracks': 8}\n",
      "{'artist': 'Casting Spells', 'album': 'Majestic Mountain', 'tracks': 12}\n"
     ]
    }
   ],
   "source": [
    "def make_album(artist, album_name, track_count=''):\n",
    "    \"\"\"Returns a dictionary of album information.\"\"\"\n",
    "    album = {'artist': artist, 'album': album_name}\n",
    "    if track_count:\n",
    "        album['tracks'] = track_count\n",
    "\n",
    "    return album\n",
    "\n",
    "album_dictionary_1 = make_album('True Pirate', 'Wolves of the Sea')\n",
    "album_dictionary_2 = make_album('Adrian Von Ziegler', 'Celtic Forest', 12)\n",
    "album_dictionary_3 = make_album('Casting Spells', 'Whimsical Eve', 8)\n",
    "album_dictionary_4 = make_album('Casting Spells', 'Majestic Mountain', 12)\n",
    "\n",
    "album_collection = [album_dictionary_1, album_dictionary_2, album_dictionary_3, album_dictionary_4]\n",
    "\n",
    "for album in album_collection:\n",
    "    print(album)"
   ]
  },
  {
   "cell_type": "code",
   "execution_count": null,
   "metadata": {},
   "outputs": [],
   "source": []
  }
 ],
 "metadata": {
  "kernelspec": {
   "display_name": "Python 3.7.8 64-bit",
   "language": "python",
   "name": "python3"
  },
  "language_info": {
   "codemirror_mode": {
    "name": "ipython",
    "version": 3
   },
   "file_extension": ".py",
   "mimetype": "text/x-python",
   "name": "python",
   "nbconvert_exporter": "python",
   "pygments_lexer": "ipython3",
   "version": "3.11.6"
  },
  "orig_nbformat": 4,
  "vscode": {
   "interpreter": {
    "hash": "0a54084e6b208ee8d1ce3989ffc20924477a5f55f5a43e22e699a6741623861e"
   }
  }
 },
 "nbformat": 4,
 "nbformat_minor": 2
}
